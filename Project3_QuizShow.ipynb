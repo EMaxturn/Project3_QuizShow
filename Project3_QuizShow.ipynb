{
  "nbformat": 4,
  "nbformat_minor": 0,
  "metadata": {
    "colab": {
      "provenance": [],
      "authorship_tag": "ABX9TyN6onsNAx54+m1FGn0auD2A",
      "include_colab_link": true
    },
    "kernelspec": {
      "name": "python3",
      "display_name": "Python 3"
    },
    "language_info": {
      "name": "python"
    }
  },
  "cells": [
    {
      "cell_type": "markdown",
      "metadata": {
        "id": "view-in-github",
        "colab_type": "text"
      },
      "source": [
        "<a href=\"https://colab.research.google.com/github/EMaxturn/Project3_QuizShow/blob/main/Project3_QuizShow.ipynb\" target=\"_parent\"><img src=\"https://colab.research.google.com/assets/colab-badge.svg\" alt=\"Open In Colab\"/></a>"
      ]
    },
    {
      "cell_type": "code",
      "execution_count": null,
      "metadata": {
        "colab": {
          "base_uri": "https://localhost:8080/"
        },
        "id": "KToGpd2QM0i_",
        "outputId": "84a3d91c-71a3-4378-dc9c-ea2fc8edd600"
      },
      "outputs": [
        {
          "output_type": "stream",
          "name": "stdout",
          "text": [
            "                    ___           ___           ___                    ___           ___                    ___           ___                         ___           ___     \n",
            "                   /\\  \\         /\\  \\         /\\__\\                  /\\  \\         /\\  \\                  /\\__\\         /\\  \\                       /\\__\\         /\\__\\    \n",
            "      ___         /::\\  \\        \\:\\  \\       /:/ _/_                /::\\  \\       /::\\  \\                /:/ _/_       /::\\  \\                     /:/ _/_       /:/ _/_   \n",
            "     /\\__\\       /:/\\:\\__\\        \\:\\  \\     /:/ /\\__\\              /:/\\:\\  \\     /:/\\:\\__\\              /:/ /\\__\\     /:/\\:\\  \\                   /:/ /\\  \\     /:/ /\\__\\  \n",
            "    /:/  /      /:/ /:/  /    ___  \\:\\  \\   /:/ /:/ _/_            /:/  \\:\\  \\   /:/ /:/  /             /:/ /:/  /    /:/ /::\\  \\   ___     ___   /:/ /::\\  \\   /:/ /:/ _/_ \n",
            "   /:/__/      /:/_/:/__/___ /\\  \\  \\:\\__\\ /:/_/:/ /\\__\\          /:/__/ \\:\\__\\ /:/_/:/__/___          /:/_/:/  /    /:/_/:/\\:\\__\\ /\\  \\   /\\__\\ /:/_/:/\\:\\__\\ /:/_/:/ /\\__\\\n",
            "  /::\\  \\      \\:\\/:::::/  / \\:\\  \\ /:/  / \\:\\/:/ /:/  /          \\:\\  \\ /:/  / \\:\\/:::::/  /          \\:\\/:/  /     \\:\\/:/  \\/__/ \\:\\  \\ /:/  / \\:\\/:/ /:/  / \\:\\/:/ /:/  /\n",
            " /:/\\:\\  \\      \\::/~~/~~~~   \\:\\  /:/  /   \\::/_/:/  /            \\:\\  /:/  /   \\::/~~/~~~~            \\::/__/       \\::/__/       \\:\\  /:/  /   \\::/ /:/  /   \\::/_/:/  / \n",
            " \\/__\\:\\  \\      \\:\\~~\\        \\:\\/:/  /     \\:\\/:/  /              \\:\\/:/  /     \\:\\~~\\                 \\:\\  \\        \\:\\  \\        \\:\\/:/  /     \\/_/:/  /     \\:\\/:/  /  \n",
            "      \\:\\__\\      \\:\\__\\        \\::/  /       \\::/  /                \\::/  /       \\:\\__\\                 \\:\\__\\        \\:\\__\\        \\::/  /        /:/  /       \\::/  /   \n",
            "       \\/__/       \\/__/         \\/__/         \\/__/                  \\/__/         \\/__/                  \\/__/         \\/__/         \\/__/         \\/__/         \\/__/    \n",
            "\n",
            "~~~~~Welcome to True or False!~~~~~\n",
            "\n",
            "The object of the game is to get as many true or false questions correct as possible!\n",
            "When it is your turn, all you have to do is enter 'T' for True, or 'F' for False.\n",
            "Are you ready?\n",
            "Q1: English is the most widely spoken language in the world.\n",
            "\n",
            "Enter 'T' for True or 'F' for False: T\n",
            "\n",
            "Q2: English is the most widely spoken language on the Internet.\n",
            "\n",
            "Enter 'T' for True or 'F' for False: T\n",
            "Q3: The majority of corpora used to train large language models contain Chinese language data.\n",
            "\n",
            "Enter 'T' for True or 'F' for False: F\n",
            "You got 3 out of 3 questions correct! Thanks for playing!\n"
          ]
        }
      ],
      "source": [
        "# This is a quiz show program that uses while-loops to validate users inputs for each individual question.\n",
        "\n",
        "print(r\"\"\"                    ___           ___           ___                    ___           ___                    ___           ___                         ___           ___\n",
        "                   /\\  \\         /\\  \\         /\\__\\                  /\\  \\         /\\  \\                  /\\__\\         /\\  \\                       /\\__\\         /\\__\\\n",
        "      ___         /::\\  \\        \\:\\  \\       /:/ _/_                /::\\  \\       /::\\  \\                /:/ _/_       /::\\  \\                     /:/ _/_       /:/ _/_\n",
        "     /\\__\\       /:/\\:\\__\\        \\:\\  \\     /:/ /\\__\\              /:/\\:\\  \\     /:/\\:\\__\\              /:/ /\\__\\     /:/\\:\\  \\                   /:/ /\\  \\     /:/ /\\__\\\n",
        "    /:/  /      /:/ /:/  /    ___  \\:\\  \\   /:/ /:/ _/_            /:/  \\:\\  \\   /:/ /:/  /             /:/ /:/  /    /:/ /::\\  \\   ___     ___   /:/ /::\\  \\   /:/ /:/ _/_\n",
        "   /:/__/      /:/_/:/__/___ /\\  \\  \\:\\__\\ /:/_/:/ /\\__\\          /:/__/ \\:\\__\\ /:/_/:/__/___          /:/_/:/  /    /:/_/:/\\:\\__\\ /\\  \\   /\\__\\ /:/_/:/\\:\\__\\ /:/_/:/ /\\__\\\n",
        "  /::\\  \\      \\:\\/:::::/  / \\:\\  \\ /:/  / \\:\\/:/ /:/  /          \\:\\  \\ /:/  / \\:\\/:::::/  /          \\:\\/:/  /     \\:\\/:/  \\/__/ \\:\\  \\ /:/  / \\:\\/:/ /:/  / \\:\\/:/ /:/  /\n",
        " /:/\\:\\  \\      \\::/~~/~~~~   \\:\\  /:/  /   \\::/_/:/  /            \\:\\  /:/  /   \\::/~~/~~~~            \\::/__/       \\::/__/       \\:\\  /:/  /   \\::/ /:/  /   \\::/_/:/  /\n",
        " \\/__\\:\\  \\      \\:\\~~\\        \\:\\/:/  /     \\:\\/:/  /              \\:\\/:/  /     \\:\\~~\\                 \\:\\  \\        \\:\\  \\        \\:\\/:/  /     \\/_/:/  /     \\:\\/:/  /\n",
        "      \\:\\__\\      \\:\\__\\        \\::/  /       \\::/  /                \\::/  /       \\:\\__\\                 \\:\\__\\        \\:\\__\\        \\::/  /        /:/  /       \\::/  /\n",
        "       \\/__/       \\/__/         \\/__/         \\/__/                  \\/__/         \\/__/                  \\/__/         \\/__/         \\/__/         \\/__/         \\/__/\n",
        "\"\"\")\n",
        "\n",
        "print(\"~~~~~Welcome to True or False!~~~~~\\n\")\n",
        "\n",
        "print(\"The object of the game is to get as many true or false questions correct as possible!\")\n",
        "print(\"When it is your turn, all you have to do is enter 'T' for True, or 'F' for False.\")\n",
        "print(\"Are you ready?\")\n",
        "\n",
        "questions_tuple = (\"Q1: English is the most widely spoken language in the world.\", \"\\nQ2: English is the most widely spoken language on the Internet.\",\n",
        "                   \"Q3: The majority of corpora used to train large language models contain Chinese language data.\" )\n",
        "answers_tuple = ( 'T', 'T', 'F')\n",
        "t_or_f = True\n",
        "num_correct = 0\n",
        "\n",
        "\n",
        "# This flag will set the while loops to true.\n",
        "tfone = t_or_f\n",
        "\n",
        "# This prints the first question\n",
        "print(questions_tuple[0])\n",
        "# This while loop does input validation for the first question\n",
        "while tfone:\n",
        "  ques_1 = input(\"\\nEnter 'T' for True or 'F' for False: \")\n",
        "  if ques_1 == 'T' or 'F':\n",
        "    if ques_1 == answers_tuple[0]:\n",
        "      num_correct += 1\n",
        "      tfone = False\n",
        "    else:\n",
        "      tfone = False\n",
        "  else:\n",
        "    continue\n",
        "\n",
        "# Question two contains the same structure.\n",
        "\n",
        "tftwo = t_or_f\n",
        "\n",
        "print(questions_tuple[1])\n",
        "# This while loop does input validation for the second question\n",
        "while tftwo:\n",
        "  ques_2 = input(\"\\nEnter 'T' for True or 'F' for False: \")\n",
        "  if ques_2 == 'T' or 'F':\n",
        "    if ques_2 == answers_tuple[1]:\n",
        "      num_correct += 1\n",
        "      tftwo = False\n",
        "    else:\n",
        "      tftwo = False\n",
        "  else:\n",
        "    continue\n",
        "\n",
        "# This is the flag for the third while loop\n",
        "\n",
        "tfthree = t_or_f\n",
        "\n",
        "print(questions_tuple[2])\n",
        "\n",
        "# This while loop does input validation for the third question\n",
        "while tfthree:\n",
        "  ques_3 = input(\"\\nEnter 'T' for True or 'F' for False: \")\n",
        "  if ques_3 == 'T' or 'F':\n",
        "    if ques_3 == answers_tuple[2]:\n",
        "      num_correct += 1\n",
        "      tfthree = False\n",
        "    else:\n",
        "      tfthree = False\n",
        "  else:\n",
        "    continue\n",
        "\n",
        "# This prints the final amount of correct answers.\n",
        "\n",
        "print(f\"You got {num_correct} out of {len(questions_tuple)} questions correct! Thanks for playing!\")\n",
        "\n",
        "\n",
        "\n",
        "\n",
        "\n"
      ]
    }
  ]
}